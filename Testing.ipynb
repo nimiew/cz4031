{
 "cells": [
  {
   "cell_type": "code",
   "execution_count": 1,
   "metadata": {},
   "outputs": [],
   "source": [
    "# from structures import Block, Disk\n",
    "# from utils import *"
   ]
  },
  {
   "cell_type": "code",
   "execution_count": 2,
   "metadata": {},
   "outputs": [],
   "source": [
    "# data = parse_data()\n",
    "# sort by averageRating\n",
    "# data.sort(key=lambda record: record[1]) "
   ]
  },
  {
   "cell_type": "code",
   "execution_count": 3,
   "metadata": {},
   "outputs": [],
   "source": [
    "# for record in data:\n",
    "#     tconst, average_rating, num_votes = record\n",
    "#     tconst_bytes = convert_string_to_bytes(tconst, 10)\n",
    "#     average_rating_bytes = convert_float_to_bytes(average_rating)\n",
    "#     num_votes_bytes = convert_uint_to_bytes(num_votes)\n",
    "#     assert(convert_bytes_to_string(tconst_bytes) == tconst)\n",
    "#     assert(convert_bytes_to_float(average_rating_bytes) == average_rating)\n",
    "#     assert(convert_bytes_to_uint(num_votes_bytes) == num_votes)"
   ]
  },
  {
   "cell_type": "code",
   "execution_count": 4,
   "metadata": {},
   "outputs": [],
   "source": [
    "# test_block = Block()\n",
    "# set_data_block_header(test_block, 7)\n",
    "# get_data_block_header(test_block)\n",
    "# get_block_type(test_block)"
   ]
  },
  {
   "cell_type": "code",
   "execution_count": 5,
   "metadata": {},
   "outputs": [],
   "source": [
    "# test_block = Block()\n",
    "# set_index_block_header(test_block, 23, 22, \"root\")\n",
    "# get_index_block_header(test_block)\n",
    "# get_block_type(test_block)"
   ]
  },
  {
   "cell_type": "code",
   "execution_count": 6,
   "metadata": {},
   "outputs": [],
   "source": [
    "# test_block = Block()\n",
    "# set_index_block_header(test_block, 23, 22, \"leaf\")\n",
    "# get_index_block_header(test_block)\n",
    "# get_block_type(test_block)"
   ]
  },
  {
   "cell_type": "code",
   "execution_count": 7,
   "metadata": {},
   "outputs": [],
   "source": [
    "# data[:2]"
   ]
  },
  {
   "cell_type": "code",
   "execution_count": 8,
   "metadata": {},
   "outputs": [],
   "source": [
    "# test_block = Block()\n",
    "# set_data_block_header(test_block, 3)\n",
    "# insert_record_bytes(test_block, convert_record_to_bytes(data[0]))\n",
    "# insert_record_bytes(test_block, convert_record_to_bytes(data[1]))"
   ]
  },
  {
   "cell_type": "code",
   "execution_count": 9,
   "metadata": {},
   "outputs": [],
   "source": [
    "# print(convert_bytes_to_record(test_block.bytes[9:27]))\n",
    "# print(convert_bytes_to_record(test_block.bytes[27:27+18]))"
   ]
  },
  {
   "cell_type": "code",
   "execution_count": 10,
   "metadata": {},
   "outputs": [],
   "source": [
    "# while insert_record_bytes(test_block, convert_record_to_bytes(data[0])):\n",
    "#     pass"
   ]
  },
  {
   "cell_type": "code",
   "execution_count": 11,
   "metadata": {},
   "outputs": [],
   "source": [
    "# for i in range(9, 100, 18):\n",
    "#     if i + 18 <= 100:\n",
    "#         print(convert_bytes_to_record(read_record_bytes(test_block, i)))"
   ]
  },
  {
   "cell_type": "code",
   "execution_count": 12,
   "metadata": {},
   "outputs": [],
   "source": [
    "# block = Block()"
   ]
  },
  {
   "cell_type": "code",
   "execution_count": 13,
   "metadata": {},
   "outputs": [],
   "source": [
    "# set_index_block_header(block, 0, 0, \"root\")"
   ]
  },
  {
   "cell_type": "code",
   "execution_count": 14,
   "metadata": {},
   "outputs": [],
   "source": [
    "# get_index_block_header(block)"
   ]
  },
  {
   "cell_type": "code",
   "execution_count": 15,
   "metadata": {},
   "outputs": [],
   "source": [
    "# pointers, keys = deserialize_index_block(block)"
   ]
  },
  {
   "cell_type": "code",
   "execution_count": 16,
   "metadata": {},
   "outputs": [],
   "source": [
    "# pointers, keys"
   ]
  },
  {
   "cell_type": "code",
   "execution_count": 17,
   "metadata": {},
   "outputs": [],
   "source": [
    "# pointers.append((3, 100))\n",
    "# keys.append(5)"
   ]
  },
  {
   "cell_type": "code",
   "execution_count": 18,
   "metadata": {},
   "outputs": [],
   "source": [
    "# serialized = serialize_index_block(pointers, keys)\n",
    "# print(len(serialized))"
   ]
  },
  {
   "cell_type": "code",
   "execution_count": 19,
   "metadata": {},
   "outputs": [],
   "source": [
    "# set_key_pointers_bytes(block, serialized)"
   ]
  },
  {
   "cell_type": "code",
   "execution_count": 20,
   "metadata": {},
   "outputs": [],
   "source": [
    "# serialize_index_block(pointers, keys)"
   ]
  },
  {
   "cell_type": "code",
   "execution_count": 21,
   "metadata": {},
   "outputs": [],
   "source": [
    "# print(block)"
   ]
  },
  {
   "cell_type": "code",
   "execution_count": 22,
   "metadata": {},
   "outputs": [],
   "source": [
    "# deserialize_index_block(block)"
   ]
  },
  {
   "cell_type": "code",
   "execution_count": 23,
   "metadata": {},
   "outputs": [],
   "source": [
    "# to deal with duplicate key -> record header need to have pointer (block_and_offset) of next record with same average_rating"
   ]
  },
  {
   "cell_type": "code",
   "execution_count": 193,
   "metadata": {},
   "outputs": [],
   "source": [
    "class BPTree:\n",
    "    \n",
    "    def __init__(self):\n",
    "        self.root = BPTreeNode(True)\n",
    "    \n",
    "    def insert(self, key, value):\n",
    "        self.root = self.root.insert(key, value)\n",
    "        \n",
    "    def search(self, key):\n",
    "        return self.root.search(key)\n",
    "    \n",
    "    def search_range(self, lower, upper):\n",
    "        return self.root.search_range(lower, upper)\n",
    "    \n",
    "    def delete(self, key):\n",
    "        if not self.search(key):\n",
    "            return\n",
    "        self.root.delete(key, None, None, None, float(\"inf\"), float(\"-inf\"))\n",
    "        if self.root.keys == []:\n",
    "            self.root = self.root.pointers[0]\n",
    "            \n",
    "    def validate(self):\n",
    "        self.root.validate()\n",
    "        \n",
    "    def show(self):\n",
    "        # bfs\n",
    "        cur = [self.root]\n",
    "        while True:\n",
    "            nxt = []\n",
    "            to_print = []\n",
    "            for node in cur:\n",
    "                if node == None:\n",
    "                    print(\"Empty tree\")\n",
    "                    return\n",
    "                for key in node.keys:\n",
    "                    to_print.append(key)\n",
    "                to_print.append(\"|\")\n",
    "                for pointer in node.pointers:\n",
    "                    nxt.append(pointer)\n",
    "            print(\" \".join(str(x) for x in to_print))\n",
    "            print()\n",
    "            if any(type(x) == str for x in nxt):\n",
    "                return\n",
    "            cur = nxt\n",
    "        "
   ]
  },
  {
   "cell_type": "code",
   "execution_count": 213,
   "metadata": {},
   "outputs": [],
   "source": [
    "class BPTreeNode:\n",
    "    \n",
    "    def __init__(self, leaf=False):\n",
    "        self.keys = []\n",
    "        self.pointers = [None] # either val or node\n",
    "        self.leaf = leaf\n",
    "        self.max_keys = 3\n",
    "        self.min_leaf_keys = (self.max_keys + 1) // 2\n",
    "        self.min_non_leaf_keys = self.max_keys // 2\n",
    "        \n",
    "    def insert(self, key, value):\n",
    "        if self.leaf:\n",
    "            inserted = False\n",
    "            for i in range(len(self.keys)):\n",
    "                if key < self.keys[i]:\n",
    "                    self.keys.insert(i, key)\n",
    "                    self.pointers.insert(i, value)\n",
    "                    inserted = True\n",
    "                    break\n",
    "            if not inserted:\n",
    "                pos = len(self.keys)\n",
    "                self.keys.insert(pos, key)\n",
    "                self.pointers.insert(pos, value)\n",
    "            if len(self.keys) > self.max_keys:\n",
    "                num_left = (len(self.keys) + 1) // 2\n",
    "                right_node = BPTreeNode(leaf=True)\n",
    "                right_node.keys = self.keys[num_left:]\n",
    "                right_node.pointers = self.pointers[num_left:]\n",
    "                self.keys = self.keys[:num_left]\n",
    "                self.pointers = self.pointers[:num_left]\n",
    "                self.pointers.append(right_node)\n",
    "                above_node = BPTreeNode()\n",
    "                above_node.keys = [right_node.keys[0]]\n",
    "                above_node.pointers = [self, right_node]\n",
    "                return above_node\n",
    "            return self\n",
    "        \n",
    "        else:\n",
    "            # pos to insert\n",
    "            pos = None\n",
    "            for i in range(len(self.keys)):\n",
    "                if key < self.keys[i]:\n",
    "                    pos = i\n",
    "                    break\n",
    "            if pos == None:\n",
    "                pos = len(self.keys)\n",
    "            to_merge = self.pointers[pos].insert(key, value)\n",
    "            if to_merge is self.pointers[pos]:\n",
    "                return self\n",
    "            self.pointers[pos] = to_merge.pointers[1]\n",
    "            self.pointers.insert(pos, to_merge.pointers[0])\n",
    "            self.keys.insert(pos, to_merge.keys[0])\n",
    "            if len(self.keys) > self.max_keys:\n",
    "                num_left = len(self.keys) // 2\n",
    "                \n",
    "                right_node = BPTreeNode()\n",
    "                right_node.keys = self.keys[num_left+1:]\n",
    "                right_node.pointers = self.pointers[num_left+1:]\n",
    "                \n",
    "                above_node = BPTreeNode()\n",
    "                above_node.keys = [self.keys[num_left]]\n",
    "                above_node.pointers = [self, right_node]\n",
    "                \n",
    "                self.keys = self.keys[:num_left]\n",
    "                self.pointers = self.pointers[:num_left+1]\n",
    "                \n",
    "                return above_node\n",
    "            return self\n",
    "        \n",
    "    def search(self, key):\n",
    "        if self.leaf:\n",
    "            for i in range(len(self.keys)):\n",
    "                if key == self.keys[i]:\n",
    "                    return self.pointers[i]\n",
    "            return None\n",
    "        else:\n",
    "            for i in range(len(self.keys)):\n",
    "                if key < self.keys[i]:\n",
    "                    return self.pointers[i].search(key)\n",
    "            return self.pointers[-1].search(key)\n",
    "    \n",
    "    def search_first_gte(self, key):\n",
    "        if self.leaf:\n",
    "            for i in range(len(self.keys)):\n",
    "                if self.keys[i] >= key:\n",
    "                    return self, i\n",
    "            if self.pointers[-1] == None:\n",
    "                return None\n",
    "            return self.pointers[-1], 0\n",
    "        else:\n",
    "            for i in range(len(self.keys)):\n",
    "                if key < self.keys[i]:\n",
    "                    return self.pointers[i].search_first_gte(key)\n",
    "            return self.pointers[-1].search_first_gte(key)\n",
    "        \n",
    "    \n",
    "    def search_range(self, lower, upper): # inclusive\n",
    "        if lower == None and upper == None:\n",
    "            raise Exception(\"At least one must be not None\")\n",
    "        if lower == None:\n",
    "            lower = float(\"-inf\")\n",
    "        if upper == None:\n",
    "            upper = float(\"inf\")\n",
    "        if lower > upper:\n",
    "            return []\n",
    "        first_gte = self.search_first_gte(lower)\n",
    "        \n",
    "        res = []\n",
    "        if first_gte == None:\n",
    "            return res\n",
    "        node, pos = first_gte\n",
    "        while node:\n",
    "            for i in range(pos, len(node.keys)):\n",
    "                if node.keys[i] > upper:\n",
    "                    return res\n",
    "                res.append(node.pointers[i])\n",
    "            pos = 0\n",
    "            node = node.pointers[-1]\n",
    "        return res\n",
    "    \n",
    "    def find_min(self):\n",
    "        cur = self\n",
    "        while type(cur.pointers[0]) == BPTreeNode:\n",
    "            cur = cur.pointers[0]\n",
    "        return cur.keys[0]\n",
    "    \n",
    "    def delete(self, key, left_neighbour, right_neighbour, parent, upper_bound, lower_bound):\n",
    "        \"\"\"\n",
    "        different return values have different meaning\n",
    "        if return [0] => the function was called on a leaf node, and there is no merging done\n",
    "        if return [1, 0] => the function was called on a leaf node and that leaf node merged with its right sibling\n",
    "        if return [1, 1] => the function was called on a leaf node and that leaf node merged with its left sibling\n",
    "        if return [2] => the function was called on a non-leaf node and there was no merging done\n",
    "        if return [3, 0] => the function was called on a non-leaf node and that non-leaf node merged with its right sibling\n",
    "        if return [3, 1] => the function was called on a non-leaf node and that non-leaf node merged with its left sibling\n",
    "        \"\"\"\n",
    "        if self.leaf:\n",
    "            for i in range(len(self.keys)):\n",
    "                if self.keys[i] == key:\n",
    "                    self.keys.pop(i)\n",
    "                    self.pointers.pop(i)\n",
    "                    break\n",
    "            # at this point, the pointer and key in leaf node is removed\n",
    "            # since min leaf key is satisfied, return False is signify no merging is done\n",
    "            if len(self.keys) >= self.min_leaf_keys:\n",
    "                return [0]\n",
    "            # we know min leaf key is not satisfied\n",
    "            if parent == None:\n",
    "                # however, since its the root, its ok\n",
    "                return [0]\n",
    "            # check if can take from left neighbour\n",
    "            if left_neighbour and len(left_neighbour.keys) > self.min_leaf_keys:\n",
    "                self.keys = [left_neighbour.keys.pop()] + self.keys\n",
    "                self.pointers = [left_neighbour.pointers.pop(-2)] + self.pointers\n",
    "                return [0]\n",
    "            # check if can take from right neighbour\n",
    "            if right_neighbour and len(right_neighbour.keys) > self.min_leaf_keys:\n",
    "                self.keys += [right_neighbour.keys.pop(0)]\n",
    "                self.pointers = self.pointers[:-1] + [right_neighbour.pointers.pop(0)] + [self.pointers[-1]]\n",
    "                return [0]\n",
    "            # if neither works, merge\n",
    "            # try merge right\n",
    "            if right_neighbour:\n",
    "                assert len(self.keys) + len(right_neighbour.keys) <= self.max_keys\n",
    "                self.pointers.pop()\n",
    "                self.keys += right_neighbour.keys\n",
    "                self.pointers += right_neighbour.pointers\n",
    "                return [1, 0]\n",
    "            # try merge left\n",
    "            elif left_neighbour:\n",
    "                assert len(self.keys) + len(left_neighbour.keys) <= self.max_keys\n",
    "                self.keys = left_neighbour.keys + self.keys\n",
    "                self.pointers = left_neighbour.pointers[:-1] + self.pointers\n",
    "                return [1, 1]\n",
    "            else:\n",
    "                raise Exception(\"FUCKED\")\n",
    "        else:\n",
    "            pos = None\n",
    "            for i in range(len(self.keys)):\n",
    "                if key < self.keys[i]:\n",
    "                    pos = i\n",
    "                    break\n",
    "            if pos == None:\n",
    "                pos = len(self.keys)\n",
    "            # pointers[pos] is the node we recursively call on\n",
    "            # get the left and right sibling\n",
    "            left_sibling = self.pointers[pos-1] if pos-1 >= 0 else None\n",
    "            right_sibling = self.pointers[pos+1] if pos+1 < len(self.pointers) else None\n",
    "            if 0 <= pos < len(self.keys):\n",
    "                call_upper_bound = self.keys[pos]\n",
    "            else:\n",
    "                call_upper_bound = upper_bound\n",
    "            if 0 <= pos - 1 < len(self.keys):\n",
    "                call_lower_bound = self.keys[pos-1]\n",
    "            else:\n",
    "                call_lower_bound = lower_bound\n",
    "            # res is the result from the recursive call\n",
    "            res = self.pointers[pos].delete(key, left_sibling, right_sibling, self, call_upper_bound, call_lower_bound)\n",
    "            if res[0] == 0:\n",
    "                # res == 0 means that there was no merging from leaves\n",
    "                # simply need to update the value of keys[pos-1] and keys[pos]\n",
    "                if pos < len(self.keys):\n",
    "                    self.keys[pos] = self.pointers[pos+1].keys[0]\n",
    "                if pos-1 >= 0:\n",
    "                    self.keys[pos-1] = self.pointers[pos].keys[0]\n",
    "                return [2]\n",
    "            elif res[0] == 2:\n",
    "                for ppos in range(pos-1, pos+2):\n",
    "                    if 1 <= ppos < len(self.pointers):\n",
    "                        self.keys[ppos-1] = self.pointers[ppos].find_min()\n",
    "                return [2]\n",
    "            else:\n",
    "                if res[1] == 0:\n",
    "                    # below merged right\n",
    "                    # delete self.pointers[pos+1] and self.keys[pos]\n",
    "                    assert pos + 1 < len(self.pointers)\n",
    "                    self.pointers.pop(pos+1)\n",
    "                    assert pos < len(self.keys)\n",
    "                    self.keys.pop(pos)\n",
    "                elif res[1] == 1:\n",
    "                    # below merged left\n",
    "                    # delete self.pointers[pos-1] and self.keys[pos-1]\n",
    "                    self.pointers.pop(pos-1)\n",
    "                    self.keys.pop(pos-1)\n",
    "                # check if non leaf min keys is satisfied\n",
    "                if len(self.keys) >= self.min_non_leaf_keys or parent == None:\n",
    "                    return [2]\n",
    "                # borrow from left\n",
    "                if left_neighbour and len(left_neighbour.keys) > self.min_non_leaf_keys:\n",
    "                    self.keys = [left_neighbour.keys.pop()] + self.keys\n",
    "                    self.pointers = [left_neighbour.pointers.pop()] + self.pointers\n",
    "                    self.keys[0] = self.pointers[1].keys[0]\n",
    "                    return [2]\n",
    "                # borrow from right\n",
    "                if right_neighbour and len(right_neighbour.keys) > self.min_non_leaf_keys:\n",
    "                    self.keys += [right_neighbour.keys.pop(0)]\n",
    "                    self.pointers += [right_neighbour.pointers.pop(0)]\n",
    "                    self.keys[-1] = self.pointers[-1].keys[0]\n",
    "                    return [2]\n",
    "                # if neither works, merge\n",
    "                if right_neighbour:\n",
    "                    assert upper_bound != float(\"inf\")\n",
    "                    self.keys += [upper_bound] + right_neighbour.keys\n",
    "                    self.pointers += right_neighbour.pointers\n",
    "                    return [3, 0]\n",
    "                elif left_neighbour:\n",
    "                    assert lower_bound != float(\"-inf\")\n",
    "                    self.keys = left_neighbour.keys + [lower_bound] + self.keys\n",
    "                    self.pointers = left_neighbour.pointers + self.pointers\n",
    "                    return [3, 1]\n",
    "                else:\n",
    "                    raise Exception(\"FUCKED\")\n",
    "    \n",
    "    def validate(self):\n",
    "        # assume that the tree has >1 node\n",
    "        # check number of keys and pointers are valid\n",
    "        if self.leaf:\n",
    "            assert self.min_leaf_keys <= len(self.keys) <= self.max_keys\n",
    "        else:\n",
    "            assert self.min_non_leaf_keys <= len(self.keys) <= self.max_keys\n",
    "        assert len(self.pointers) - len(self.keys) == 1\n",
    "        # check that values in a node are sorted\n",
    "        for i in range(len(self.keys) - 1):\n",
    "            assert self.keys[i] <= self.keys[i+1]\n",
    "        if type(self.pointers[0]) != BPTreeNode:\n",
    "            # already reach leaf nodes\n",
    "            return self.keys[0]\n",
    "        # check that values in a level are sorted\n",
    "        for i in range(len(self.pointers)-1):\n",
    "            assert self.pointers[i].keys[0] <= self.pointers[i+1].keys[0]\n",
    "        # recursively check\n",
    "        for i in range(len(self.pointers)):\n",
    "            if self.pointers[i] == None:\n",
    "                continue\n",
    "            min_val = self.pointers[i].validate()\n",
    "            if i > 0:\n",
    "                assert self.keys[i-1] == min_val\n",
    "        return self.pointers[0].validate()"
   ]
  },
  {
   "cell_type": "code",
   "execution_count": 214,
   "metadata": {},
   "outputs": [],
   "source": [
    "tree = BPTree()"
   ]
  },
  {
   "cell_type": "code",
   "execution_count": 215,
   "metadata": {},
   "outputs": [],
   "source": [
    "mock_data = {x: f\"{x}x\" for x in [5,20,35,1,2,5,6,9,10,18,19,11,12,22,24,25,31,32,34,35,37,38]}"
   ]
  },
  {
   "cell_type": "code",
   "execution_count": 216,
   "metadata": {},
   "outputs": [],
   "source": [
    "for k, v in mock_data.items():\n",
    "    tree.insert(k, v)\n",
    "for k, v in mock_data.items():\n",
    "    assert tree.search(k) == v"
   ]
  },
  {
   "cell_type": "code",
   "execution_count": 217,
   "metadata": {},
   "outputs": [
    {
     "name": "stdout",
     "output_type": "stream",
     "text": [
      "18 31 |\n",
      "\n",
      "5 9 11 | 20 24 | 34 37 |\n",
      "\n",
      "1 2 | 5 6 | 9 10 | 11 12 | 18 19 | 20 22 | 24 25 | 31 32 | 34 35 | 37 38 |\n",
      "\n"
     ]
    }
   ],
   "source": [
    "tree.show()"
   ]
  },
  {
   "cell_type": "code",
   "execution_count": 227,
   "metadata": {},
   "outputs": [
    {
     "data": {
      "text/plain": [
       "20"
      ]
     },
     "execution_count": 227,
     "metadata": {},
     "output_type": "execute_result"
    }
   ],
   "source": [
    "tree.root.pointers[1].pointers[1].find_min()"
   ]
  },
  {
   "cell_type": "code",
   "execution_count": null,
   "metadata": {},
   "outputs": [],
   "source": []
  },
  {
   "cell_type": "code",
   "execution_count": null,
   "metadata": {},
   "outputs": [],
   "source": []
  },
  {
   "cell_type": "code",
   "execution_count": null,
   "metadata": {},
   "outputs": [],
   "source": []
  },
  {
   "cell_type": "code",
   "execution_count": 212,
   "metadata": {},
   "outputs": [
    {
     "name": "stdout",
     "output_type": "stream",
     "text": [
      "18 31 |\n",
      "\n",
      "5 9 11 | 20 24 | 34 37 |\n",
      "\n",
      "1 2 | 5 6 | 9 10 | 11 12 | 18 19 | 20 22 | 24 25 | 31 32 | 34 35 | 37 38 |\n",
      "\n",
      "deleted: 25\n",
      "\n",
      "18 31 |\n",
      "\n",
      "5 9 11 | 20 | 34 37 |\n",
      "\n",
      "1 2 | 5 6 | 9 10 | 11 12 | 18 19 | 20 22 24 | 31 32 | 34 35 | 37 38 |\n",
      "\n",
      "deleted: 24\n",
      "\n",
      "18 31 |\n",
      "\n",
      "5 9 11 | 20 | 34 37 |\n",
      "\n",
      "1 2 | 5 6 | 9 10 | 11 12 | 18 19 | 20 22 | 31 32 | 34 35 | 37 38 |\n",
      "\n",
      "deleted: 12\n",
      "\n",
      "18 31 |\n",
      "\n",
      "5 9 | 20 | 34 37 |\n",
      "\n",
      "1 2 | 5 6 | 9 10 11 | 18 19 | 20 22 | 31 32 | 34 35 | 37 38 |\n",
      "\n",
      "deleted: 11\n",
      "\n",
      "18 31 |\n",
      "\n",
      "5 9 | 20 | 34 37 |\n",
      "\n",
      "1 2 | 5 6 | 9 10 | 18 19 | 20 22 | 31 32 | 34 35 | 37 38 |\n",
      "\n",
      "deleted: 10\n",
      "\n",
      "18 31 |\n",
      "\n",
      "5 | 20 | 34 37 |\n",
      "\n",
      "1 2 | 5 6 9 | 18 19 | 20 22 | 31 32 | 34 35 | 37 38 |\n",
      "\n",
      "deleted: 22\n",
      "\n"
     ]
    },
    {
     "ename": "AssertionError",
     "evalue": "",
     "output_type": "error",
     "traceback": [
      "\u001b[1;31m---------------------------------------------------------------------------\u001b[0m",
      "\u001b[1;31mAssertionError\u001b[0m                            Traceback (most recent call last)",
      "\u001b[1;32m<ipython-input-212-80b49bce7c10>\u001b[0m in \u001b[0;36m<module>\u001b[1;34m\u001b[0m\n\u001b[0;32m      3\u001b[0m     \u001b[0mtree\u001b[0m\u001b[1;33m.\u001b[0m\u001b[0mdelete\u001b[0m\u001b[1;33m(\u001b[0m\u001b[0mv\u001b[0m\u001b[1;33m)\u001b[0m\u001b[1;33m\u001b[0m\u001b[1;33m\u001b[0m\u001b[0m\n\u001b[0;32m      4\u001b[0m     \u001b[0mprint\u001b[0m\u001b[1;33m(\u001b[0m\u001b[1;34mf\"deleted: {v}\\n\"\u001b[0m\u001b[1;33m)\u001b[0m\u001b[1;33m\u001b[0m\u001b[1;33m\u001b[0m\u001b[0m\n\u001b[1;32m----> 5\u001b[1;33m     \u001b[0mtree\u001b[0m\u001b[1;33m.\u001b[0m\u001b[0mvalidate\u001b[0m\u001b[1;33m(\u001b[0m\u001b[1;33m)\u001b[0m\u001b[1;33m\u001b[0m\u001b[1;33m\u001b[0m\u001b[0m\n\u001b[0m\u001b[0;32m      6\u001b[0m     \u001b[0mtree\u001b[0m\u001b[1;33m.\u001b[0m\u001b[0mshow\u001b[0m\u001b[1;33m(\u001b[0m\u001b[1;33m)\u001b[0m\u001b[1;33m\u001b[0m\u001b[1;33m\u001b[0m\u001b[0m\n",
      "\u001b[1;32m<ipython-input-193-6a4c98e5712f>\u001b[0m in \u001b[0;36mvalidate\u001b[1;34m(self)\u001b[0m\n\u001b[0;32m     21\u001b[0m \u001b[1;33m\u001b[0m\u001b[0m\n\u001b[0;32m     22\u001b[0m     \u001b[1;32mdef\u001b[0m \u001b[0mvalidate\u001b[0m\u001b[1;33m(\u001b[0m\u001b[0mself\u001b[0m\u001b[1;33m)\u001b[0m\u001b[1;33m:\u001b[0m\u001b[1;33m\u001b[0m\u001b[1;33m\u001b[0m\u001b[0m\n\u001b[1;32m---> 23\u001b[1;33m         \u001b[0mself\u001b[0m\u001b[1;33m.\u001b[0m\u001b[0mroot\u001b[0m\u001b[1;33m.\u001b[0m\u001b[0mvalidate\u001b[0m\u001b[1;33m(\u001b[0m\u001b[1;33m)\u001b[0m\u001b[1;33m\u001b[0m\u001b[1;33m\u001b[0m\u001b[0m\n\u001b[0m\u001b[0;32m     24\u001b[0m \u001b[1;33m\u001b[0m\u001b[0m\n\u001b[0;32m     25\u001b[0m     \u001b[1;32mdef\u001b[0m \u001b[0mshow\u001b[0m\u001b[1;33m(\u001b[0m\u001b[0mself\u001b[0m\u001b[1;33m)\u001b[0m\u001b[1;33m:\u001b[0m\u001b[1;33m\u001b[0m\u001b[1;33m\u001b[0m\u001b[0m\n",
      "\u001b[1;32m<ipython-input-194-b4f88efa7642>\u001b[0m in \u001b[0;36mvalidate\u001b[1;34m(self)\u001b[0m\n\u001b[0;32m    269\u001b[0m             \u001b[0mmin_val\u001b[0m \u001b[1;33m=\u001b[0m \u001b[0mself\u001b[0m\u001b[1;33m.\u001b[0m\u001b[0mpointers\u001b[0m\u001b[1;33m[\u001b[0m\u001b[0mi\u001b[0m\u001b[1;33m]\u001b[0m\u001b[1;33m.\u001b[0m\u001b[0mvalidate\u001b[0m\u001b[1;33m(\u001b[0m\u001b[1;33m)\u001b[0m\u001b[1;33m\u001b[0m\u001b[1;33m\u001b[0m\u001b[0m\n\u001b[0;32m    270\u001b[0m             \u001b[1;32mif\u001b[0m \u001b[0mi\u001b[0m \u001b[1;33m>\u001b[0m \u001b[1;36m0\u001b[0m\u001b[1;33m:\u001b[0m\u001b[1;33m\u001b[0m\u001b[1;33m\u001b[0m\u001b[0m\n\u001b[1;32m--> 271\u001b[1;33m                 \u001b[1;32massert\u001b[0m \u001b[0mself\u001b[0m\u001b[1;33m.\u001b[0m\u001b[0mkeys\u001b[0m\u001b[1;33m[\u001b[0m\u001b[0mi\u001b[0m\u001b[1;33m-\u001b[0m\u001b[1;36m1\u001b[0m\u001b[1;33m]\u001b[0m \u001b[1;33m==\u001b[0m \u001b[0mmin_val\u001b[0m\u001b[1;33m\u001b[0m\u001b[1;33m\u001b[0m\u001b[0m\n\u001b[0m\u001b[0;32m    272\u001b[0m         \u001b[1;32mreturn\u001b[0m \u001b[0mself\u001b[0m\u001b[1;33m.\u001b[0m\u001b[0mpointers\u001b[0m\u001b[1;33m[\u001b[0m\u001b[1;36m0\u001b[0m\u001b[1;33m]\u001b[0m\u001b[1;33m.\u001b[0m\u001b[0mvalidate\u001b[0m\u001b[1;33m(\u001b[0m\u001b[1;33m)\u001b[0m\u001b[1;33m\u001b[0m\u001b[1;33m\u001b[0m\u001b[0m\n",
      "\u001b[1;31mAssertionError\u001b[0m: "
     ]
    }
   ],
   "source": [
    "tree.show()\n",
    "for v in [25,24,12,11,10,22]:\n",
    "    tree.delete(v)\n",
    "    print(f\"deleted: {v}\\n\")\n",
    "    tree.validate()\n",
    "    tree.show()"
   ]
  },
  {
   "cell_type": "code",
   "execution_count": null,
   "metadata": {},
   "outputs": [],
   "source": []
  }
 ],
 "metadata": {
  "kernelspec": {
   "display_name": "Python 3",
   "language": "python",
   "name": "python3"
  },
  "language_info": {
   "codemirror_mode": {
    "name": "ipython",
    "version": 3
   },
   "file_extension": ".py",
   "mimetype": "text/x-python",
   "name": "python",
   "nbconvert_exporter": "python",
   "pygments_lexer": "ipython3",
   "version": "3.8.3"
  }
 },
 "nbformat": 4,
 "nbformat_minor": 4
}
